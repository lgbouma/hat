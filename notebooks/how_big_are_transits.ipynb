{
 "cells": [
  {
   "cell_type": "markdown",
   "metadata": {},
   "source": [
    "We're making plots in magnitude units (rather than normalized to 1 & percentages), which means we need to retrain our idea of what planet transit sizes are and what star transit sizes are."
   ]
  },
  {
   "cell_type": "code",
   "execution_count": 1,
   "metadata": {
    "collapsed": true
   },
   "outputs": [],
   "source": [
    "from astropy import units as u\n",
    "import numpy as np\n",
    "import pandas as pd"
   ]
  },
  {
   "cell_type": "code",
   "execution_count": 2,
   "metadata": {
    "collapsed": false
   },
   "outputs": [
    {
     "data": {
      "text/plain": [
       "-0.75257498915995302"
      ]
     },
     "execution_count": 2,
     "metadata": {},
     "output_type": "execute_result"
    }
   ],
   "source": [
    "5/2. * np.log10(1-1/2.) # full radius transit"
   ]
  },
  {
   "cell_type": "code",
   "execution_count": 3,
   "metadata": {
    "collapsed": false
   },
   "outputs": [
    {
     "data": {
      "text/plain": [
       "-0.31234684152074982"
      ]
     },
     "execution_count": 3,
     "metadata": {},
     "output_type": "execute_result"
    }
   ],
   "source": [
    "5/2. * np.log10(1-1/4.) # half-radius transit"
   ]
  },
  {
   "cell_type": "code",
   "execution_count": 4,
   "metadata": {
    "collapsed": false
   },
   "outputs": [
    {
     "data": {
      "text/plain": [
       "-0.070071809000608859"
      ]
     },
     "execution_count": 4,
     "metadata": {},
     "output_type": "execute_result"
    }
   ],
   "source": [
    "5/2. * np.log10(1-1/16.) # quarter-radius transit"
   ]
  },
  {
   "cell_type": "code",
   "execution_count": 5,
   "metadata": {
    "collapsed": false
   },
   "outputs": [],
   "source": [
    "star_radii = [0.2,0.4,0.6,0.8,1.,1.2]*u.Rsun\n",
    "planet_radii = [1.,2.,4.,6.,8.,10.,12.,14.,16.]*u.Rearth\n",
    "\n",
    "# Star transits:\n",
    "stardepthpct_arr = np.zeros((len(star_radii),len(star_radii)))\n",
    "stardepthmag_arr = np.zeros((len(star_radii),len(star_radii)))\n",
    "\n",
    "for ix, transradius in enumerate(star_radii):\n",
    "    thesedepths = (transradius/star_radii)**2\n",
    "    stardepthpct_arr[ix,:] = thesedepths\n",
    "    stardepthmag_arr[ix,:] = -5/2. * np.log10(1-thesedepths)\n",
    "\n",
    "starpct_δs = pd.DataFrame(stardepthpct_arr, columns=star_radii, index=star_radii)\n",
    "starmag_δs = pd.DataFrame(stardepthmag_arr, columns=list(map(str, star_radii)), index=list(map(str, star_radii)))\n",
    "\n",
    "# Planet transits:\n",
    "planetdepthpct_arr = np.zeros((len(planet_radii),len(star_radii)))\n",
    "planetdepthmag_arr = np.zeros((len(planet_radii),len(star_radii)))\n",
    "\n",
    "for ix, transradius in enumerate(planet_radii):\n",
    "    thesedepths = (transradius/star_radii)**2\n",
    "    planetdepthpct_arr[ix,:] = thesedepths\n",
    "    planetdepthmag_arr[ix,:] = -5/2. * np.log10(1-thesedepths)\n",
    "\n",
    "planetpct_δs = pd.DataFrame(planetdepthpct_arr, columns=star_radii, index=planet_radii)\n",
    "planetmag_δs = pd.DataFrame(planetdepthmag_arr, columns=list(map(str, star_radii)), index=list(map(str,planet_radii)))"
   ]
  },
  {
   "cell_type": "code",
   "execution_count": 6,
   "metadata": {
    "collapsed": false
   },
   "outputs": [
    {
     "data": {
      "text/html": [
       "<div>\n",
       "<table border=\"1\" class=\"dataframe\">\n",
       "  <thead>\n",
       "    <tr style=\"text-align: right;\">\n",
       "      <th></th>\n",
       "      <th>0.2 solRad</th>\n",
       "      <th>0.4 solRad</th>\n",
       "      <th>0.6 solRad</th>\n",
       "      <th>0.8 solRad</th>\n",
       "      <th>1.0 solRad</th>\n",
       "      <th>1.2 solRad</th>\n",
       "    </tr>\n",
       "  </thead>\n",
       "  <tbody>\n",
       "    <tr>\n",
       "      <th>0.2 solRad</th>\n",
       "      <td>inf</td>\n",
       "      <td>0.312</td>\n",
       "      <td>0.128</td>\n",
       "      <td>0.070</td>\n",
       "      <td>0.044</td>\n",
       "      <td>0.031</td>\n",
       "    </tr>\n",
       "    <tr>\n",
       "      <th>0.4 solRad</th>\n",
       "      <td>NaN</td>\n",
       "      <td>inf</td>\n",
       "      <td>0.638</td>\n",
       "      <td>0.312</td>\n",
       "      <td>0.189</td>\n",
       "      <td>0.128</td>\n",
       "    </tr>\n",
       "    <tr>\n",
       "      <th>0.6 solRad</th>\n",
       "      <td>NaN</td>\n",
       "      <td>NaN</td>\n",
       "      <td>inf</td>\n",
       "      <td>0.898</td>\n",
       "      <td>0.485</td>\n",
       "      <td>0.312</td>\n",
       "    </tr>\n",
       "    <tr>\n",
       "      <th>0.8 solRad</th>\n",
       "      <td>NaN</td>\n",
       "      <td>NaN</td>\n",
       "      <td>NaN</td>\n",
       "      <td>inf</td>\n",
       "      <td>1.109</td>\n",
       "      <td>0.638</td>\n",
       "    </tr>\n",
       "    <tr>\n",
       "      <th>1.0 solRad</th>\n",
       "      <td>NaN</td>\n",
       "      <td>NaN</td>\n",
       "      <td>NaN</td>\n",
       "      <td>NaN</td>\n",
       "      <td>inf</td>\n",
       "      <td>1.287</td>\n",
       "    </tr>\n",
       "    <tr>\n",
       "      <th>1.2 solRad</th>\n",
       "      <td>NaN</td>\n",
       "      <td>NaN</td>\n",
       "      <td>NaN</td>\n",
       "      <td>NaN</td>\n",
       "      <td>NaN</td>\n",
       "      <td>inf</td>\n",
       "    </tr>\n",
       "  </tbody>\n",
       "</table>\n",
       "</div>"
      ],
      "text/plain": [
       "            0.2 solRad  0.4 solRad  0.6 solRad  0.8 solRad  1.0 solRad  \\\n",
       "0.2 solRad         inf       0.312       0.128       0.070       0.044   \n",
       "0.4 solRad         NaN         inf       0.638       0.312       0.189   \n",
       "0.6 solRad         NaN         NaN         inf       0.898       0.485   \n",
       "0.8 solRad         NaN         NaN         NaN         inf       1.109   \n",
       "1.0 solRad         NaN         NaN         NaN         NaN         inf   \n",
       "1.2 solRad         NaN         NaN         NaN         NaN         NaN   \n",
       "\n",
       "            1.2 solRad  \n",
       "0.2 solRad       0.031  \n",
       "0.4 solRad       0.128  \n",
       "0.6 solRad       0.312  \n",
       "0.8 solRad       0.638  \n",
       "1.0 solRad       1.287  \n",
       "1.2 solRad         inf  "
      ]
     },
     "execution_count": 6,
     "metadata": {},
     "output_type": "execute_result"
    }
   ],
   "source": [
    "pd.set_option('precision',3)\n",
    "starmag_δs"
   ]
  },
  {
   "cell_type": "code",
   "execution_count": 7,
   "metadata": {
    "collapsed": false
   },
   "outputs": [
    {
     "data": {
      "text/html": [
       "<div>\n",
       "<table border=\"1\" class=\"dataframe\">\n",
       "  <thead>\n",
       "    <tr style=\"text-align: right;\">\n",
       "      <th></th>\n",
       "      <th>0.2 solRad</th>\n",
       "      <th>0.4 solRad</th>\n",
       "      <th>0.6 solRad</th>\n",
       "      <th>0.8 solRad</th>\n",
       "      <th>1.0 solRad</th>\n",
       "      <th>1.2 solRad</th>\n",
       "    </tr>\n",
       "  </thead>\n",
       "  <tbody>\n",
       "    <tr>\n",
       "      <th>1.0 earthRad</th>\n",
       "      <td>0.002</td>\n",
       "      <td>5.708e-04</td>\n",
       "      <td>2.537e-04</td>\n",
       "      <td>1.427e-04</td>\n",
       "      <td>9.131e-05</td>\n",
       "      <td>6.341e-05</td>\n",
       "    </tr>\n",
       "    <tr>\n",
       "      <th>2.0 earthRad</th>\n",
       "      <td>0.009</td>\n",
       "      <td>2.285e-03</td>\n",
       "      <td>1.015e-03</td>\n",
       "      <td>5.708e-04</td>\n",
       "      <td>3.653e-04</td>\n",
       "      <td>2.537e-04</td>\n",
       "    </tr>\n",
       "    <tr>\n",
       "      <th>4.0 earthRad</th>\n",
       "      <td>0.037</td>\n",
       "      <td>9.169e-03</td>\n",
       "      <td>4.066e-03</td>\n",
       "      <td>2.285e-03</td>\n",
       "      <td>1.462e-03</td>\n",
       "      <td>1.015e-03</td>\n",
       "    </tr>\n",
       "    <tr>\n",
       "      <th>6.0 earthRad</th>\n",
       "      <td>0.085</td>\n",
       "      <td>2.074e-02</td>\n",
       "      <td>9.169e-03</td>\n",
       "      <td>5.148e-03</td>\n",
       "      <td>3.292e-03</td>\n",
       "      <td>2.285e-03</td>\n",
       "    </tr>\n",
       "    <tr>\n",
       "      <th>8.0 earthRad</th>\n",
       "      <td>0.157</td>\n",
       "      <td>3.715e-02</td>\n",
       "      <td>1.636e-02</td>\n",
       "      <td>9.169e-03</td>\n",
       "      <td>5.859e-03</td>\n",
       "      <td>4.066e-03</td>\n",
       "    </tr>\n",
       "    <tr>\n",
       "      <th>10.0 earthRad</th>\n",
       "      <td>0.256</td>\n",
       "      <td>5.862e-02</td>\n",
       "      <td>2.566e-02</td>\n",
       "      <td>1.436e-02</td>\n",
       "      <td>9.169e-03</td>\n",
       "      <td>6.359e-03</td>\n",
       "    </tr>\n",
       "    <tr>\n",
       "      <th>12.0 earthRad</th>\n",
       "      <td>0.392</td>\n",
       "      <td>8.545e-02</td>\n",
       "      <td>3.715e-02</td>\n",
       "      <td>2.074e-02</td>\n",
       "      <td>1.323e-02</td>\n",
       "      <td>9.169e-03</td>\n",
       "    </tr>\n",
       "    <tr>\n",
       "      <th>14.0 earthRad</th>\n",
       "      <td>0.577</td>\n",
       "      <td>1.180e-01</td>\n",
       "      <td>5.089e-02</td>\n",
       "      <td>2.833e-02</td>\n",
       "      <td>1.805e-02</td>\n",
       "      <td>1.250e-02</td>\n",
       "    </tr>\n",
       "    <tr>\n",
       "      <th>16.0 earthRad</th>\n",
       "      <td>0.839</td>\n",
       "      <td>1.569e-01</td>\n",
       "      <td>6.695e-02</td>\n",
       "      <td>3.715e-02</td>\n",
       "      <td>2.363e-02</td>\n",
       "      <td>1.636e-02</td>\n",
       "    </tr>\n",
       "  </tbody>\n",
       "</table>\n",
       "</div>"
      ],
      "text/plain": [
       "               0.2 solRad  0.4 solRad  0.6 solRad  0.8 solRad  1.0 solRad  \\\n",
       "1.0 earthRad        0.002   5.708e-04   2.537e-04   1.427e-04   9.131e-05   \n",
       "2.0 earthRad        0.009   2.285e-03   1.015e-03   5.708e-04   3.653e-04   \n",
       "4.0 earthRad        0.037   9.169e-03   4.066e-03   2.285e-03   1.462e-03   \n",
       "6.0 earthRad        0.085   2.074e-02   9.169e-03   5.148e-03   3.292e-03   \n",
       "8.0 earthRad        0.157   3.715e-02   1.636e-02   9.169e-03   5.859e-03   \n",
       "10.0 earthRad       0.256   5.862e-02   2.566e-02   1.436e-02   9.169e-03   \n",
       "12.0 earthRad       0.392   8.545e-02   3.715e-02   2.074e-02   1.323e-02   \n",
       "14.0 earthRad       0.577   1.180e-01   5.089e-02   2.833e-02   1.805e-02   \n",
       "16.0 earthRad       0.839   1.569e-01   6.695e-02   3.715e-02   2.363e-02   \n",
       "\n",
       "               1.2 solRad  \n",
       "1.0 earthRad    6.341e-05  \n",
       "2.0 earthRad    2.537e-04  \n",
       "4.0 earthRad    1.015e-03  \n",
       "6.0 earthRad    2.285e-03  \n",
       "8.0 earthRad    4.066e-03  \n",
       "10.0 earthRad   6.359e-03  \n",
       "12.0 earthRad   9.169e-03  \n",
       "14.0 earthRad   1.250e-02  \n",
       "16.0 earthRad   1.636e-02  "
      ]
     },
     "execution_count": 7,
     "metadata": {},
     "output_type": "execute_result"
    }
   ],
   "source": [
    "planetmag_δs"
   ]
  },
  {
   "cell_type": "code",
   "execution_count": 8,
   "metadata": {
    "collapsed": false
   },
   "outputs": [
    {
     "data": {
      "text/html": [
       "<div>\n",
       "<table border=\"1\" class=\"dataframe\">\n",
       "  <thead>\n",
       "    <tr style=\"text-align: right;\">\n",
       "      <th></th>\n",
       "      <th>0.2 solRad</th>\n",
       "      <th>0.4 solRad</th>\n",
       "      <th>0.6 solRad</th>\n",
       "      <th>0.8 solRad</th>\n",
       "      <th>1.0 solRad</th>\n",
       "      <th>1.2 solRad</th>\n",
       "    </tr>\n",
       "  </thead>\n",
       "  <tbody>\n",
       "    <tr>\n",
       "      <th>0.2 solRad</th>\n",
       "      <td>inf</td>\n",
       "      <td>31.235</td>\n",
       "      <td>12.788</td>\n",
       "      <td>7.007</td>\n",
       "      <td>4.432</td>\n",
       "      <td>3.059</td>\n",
       "    </tr>\n",
       "    <tr>\n",
       "      <th>0.4 solRad</th>\n",
       "      <td>NaN</td>\n",
       "      <td>inf</td>\n",
       "      <td>63.818</td>\n",
       "      <td>31.235</td>\n",
       "      <td>18.930</td>\n",
       "      <td>12.788</td>\n",
       "    </tr>\n",
       "    <tr>\n",
       "      <th>0.6 solRad</th>\n",
       "      <td>NaN</td>\n",
       "      <td>NaN</td>\n",
       "      <td>inf</td>\n",
       "      <td>89.755</td>\n",
       "      <td>48.455</td>\n",
       "      <td>31.235</td>\n",
       "    </tr>\n",
       "    <tr>\n",
       "      <th>0.8 solRad</th>\n",
       "      <td>NaN</td>\n",
       "      <td>NaN</td>\n",
       "      <td>NaN</td>\n",
       "      <td>inf</td>\n",
       "      <td>110.924</td>\n",
       "      <td>63.818</td>\n",
       "    </tr>\n",
       "    <tr>\n",
       "      <th>1.0 solRad</th>\n",
       "      <td>NaN</td>\n",
       "      <td>NaN</td>\n",
       "      <td>NaN</td>\n",
       "      <td>NaN</td>\n",
       "      <td>inf</td>\n",
       "      <td>128.727</td>\n",
       "    </tr>\n",
       "    <tr>\n",
       "      <th>1.2 solRad</th>\n",
       "      <td>NaN</td>\n",
       "      <td>NaN</td>\n",
       "      <td>NaN</td>\n",
       "      <td>NaN</td>\n",
       "      <td>NaN</td>\n",
       "      <td>inf</td>\n",
       "    </tr>\n",
       "  </tbody>\n",
       "</table>\n",
       "</div>"
      ],
      "text/plain": [
       "            0.2 solRad  0.4 solRad  0.6 solRad  0.8 solRad  1.0 solRad  \\\n",
       "0.2 solRad         inf      31.235      12.788       7.007       4.432   \n",
       "0.4 solRad         NaN         inf      63.818      31.235      18.930   \n",
       "0.6 solRad         NaN         NaN         inf      89.755      48.455   \n",
       "0.8 solRad         NaN         NaN         NaN         inf     110.924   \n",
       "1.0 solRad         NaN         NaN         NaN         NaN         inf   \n",
       "1.2 solRad         NaN         NaN         NaN         NaN         NaN   \n",
       "\n",
       "            1.2 solRad  \n",
       "0.2 solRad       3.059  \n",
       "0.4 solRad      12.788  \n",
       "0.6 solRad      31.235  \n",
       "0.8 solRad      63.818  \n",
       "1.0 solRad     128.727  \n",
       "1.2 solRad         inf  "
      ]
     },
     "execution_count": 8,
     "metadata": {},
     "output_type": "execute_result"
    }
   ],
   "source": [
    "# in mmag units:\n",
    "starmag_δs*100."
   ]
  },
  {
   "cell_type": "code",
   "execution_count": 9,
   "metadata": {
    "collapsed": false
   },
   "outputs": [
    {
     "data": {
      "text/html": [
       "<div>\n",
       "<table border=\"1\" class=\"dataframe\">\n",
       "  <thead>\n",
       "    <tr style=\"text-align: right;\">\n",
       "      <th></th>\n",
       "      <th>0.2 solRad</th>\n",
       "      <th>0.4 solRad</th>\n",
       "      <th>0.6 solRad</th>\n",
       "      <th>0.8 solRad</th>\n",
       "      <th>1.0 solRad</th>\n",
       "      <th>1.2 solRad</th>\n",
       "    </tr>\n",
       "  </thead>\n",
       "  <tbody>\n",
       "    <tr>\n",
       "      <th>1.0 earthRad</th>\n",
       "      <td>0.229</td>\n",
       "      <td>0.057</td>\n",
       "      <td>0.025</td>\n",
       "      <td>0.014</td>\n",
       "      <td>0.009</td>\n",
       "      <td>0.006</td>\n",
       "    </tr>\n",
       "    <tr>\n",
       "      <th>2.0 earthRad</th>\n",
       "      <td>0.917</td>\n",
       "      <td>0.229</td>\n",
       "      <td>0.102</td>\n",
       "      <td>0.057</td>\n",
       "      <td>0.037</td>\n",
       "      <td>0.025</td>\n",
       "    </tr>\n",
       "    <tr>\n",
       "      <th>4.0 earthRad</th>\n",
       "      <td>3.715</td>\n",
       "      <td>0.917</td>\n",
       "      <td>0.407</td>\n",
       "      <td>0.229</td>\n",
       "      <td>0.146</td>\n",
       "      <td>0.102</td>\n",
       "    </tr>\n",
       "    <tr>\n",
       "      <th>6.0 earthRad</th>\n",
       "      <td>8.545</td>\n",
       "      <td>2.074</td>\n",
       "      <td>0.917</td>\n",
       "      <td>0.515</td>\n",
       "      <td>0.329</td>\n",
       "      <td>0.229</td>\n",
       "    </tr>\n",
       "    <tr>\n",
       "      <th>8.0 earthRad</th>\n",
       "      <td>15.690</td>\n",
       "      <td>3.715</td>\n",
       "      <td>1.636</td>\n",
       "      <td>0.917</td>\n",
       "      <td>0.586</td>\n",
       "      <td>0.407</td>\n",
       "    </tr>\n",
       "    <tr>\n",
       "      <th>10.0 earthRad</th>\n",
       "      <td>25.627</td>\n",
       "      <td>5.862</td>\n",
       "      <td>2.566</td>\n",
       "      <td>1.436</td>\n",
       "      <td>0.917</td>\n",
       "      <td>0.636</td>\n",
       "    </tr>\n",
       "    <tr>\n",
       "      <th>12.0 earthRad</th>\n",
       "      <td>39.153</td>\n",
       "      <td>8.545</td>\n",
       "      <td>3.715</td>\n",
       "      <td>2.074</td>\n",
       "      <td>1.323</td>\n",
       "      <td>0.917</td>\n",
       "    </tr>\n",
       "    <tr>\n",
       "      <th>14.0 earthRad</th>\n",
       "      <td>57.670</td>\n",
       "      <td>11.804</td>\n",
       "      <td>5.089</td>\n",
       "      <td>2.833</td>\n",
       "      <td>1.805</td>\n",
       "      <td>1.250</td>\n",
       "    </tr>\n",
       "    <tr>\n",
       "      <th>16.0 earthRad</th>\n",
       "      <td>83.892</td>\n",
       "      <td>15.690</td>\n",
       "      <td>6.695</td>\n",
       "      <td>3.715</td>\n",
       "      <td>2.363</td>\n",
       "      <td>1.636</td>\n",
       "    </tr>\n",
       "  </tbody>\n",
       "</table>\n",
       "</div>"
      ],
      "text/plain": [
       "               0.2 solRad  0.4 solRad  0.6 solRad  0.8 solRad  1.0 solRad  \\\n",
       "1.0 earthRad        0.229       0.057       0.025       0.014       0.009   \n",
       "2.0 earthRad        0.917       0.229       0.102       0.057       0.037   \n",
       "4.0 earthRad        3.715       0.917       0.407       0.229       0.146   \n",
       "6.0 earthRad        8.545       2.074       0.917       0.515       0.329   \n",
       "8.0 earthRad       15.690       3.715       1.636       0.917       0.586   \n",
       "10.0 earthRad      25.627       5.862       2.566       1.436       0.917   \n",
       "12.0 earthRad      39.153       8.545       3.715       2.074       1.323   \n",
       "14.0 earthRad      57.670      11.804       5.089       2.833       1.805   \n",
       "16.0 earthRad      83.892      15.690       6.695       3.715       2.363   \n",
       "\n",
       "               1.2 solRad  \n",
       "1.0 earthRad        0.006  \n",
       "2.0 earthRad        0.025  \n",
       "4.0 earthRad        0.102  \n",
       "6.0 earthRad        0.229  \n",
       "8.0 earthRad        0.407  \n",
       "10.0 earthRad       0.636  \n",
       "12.0 earthRad       0.917  \n",
       "14.0 earthRad       1.250  \n",
       "16.0 earthRad       1.636  "
      ]
     },
     "execution_count": 9,
     "metadata": {},
     "output_type": "execute_result"
    }
   ],
   "source": [
    "planetmag_δs*100."
   ]
  },
  {
   "cell_type": "code",
   "execution_count": null,
   "metadata": {
    "collapsed": true
   },
   "outputs": [],
   "source": []
  }
 ],
 "metadata": {
  "anaconda-cloud": {},
  "kernelspec": {
   "display_name": "Python [conda env:sci]",
   "language": "python",
   "name": "conda-env-sci-py"
  },
  "language_info": {
   "codemirror_mode": {
    "name": "ipython",
    "version": 3
   },
   "file_extension": ".py",
   "mimetype": "text/x-python",
   "name": "python",
   "nbconvert_exporter": "python",
   "pygments_lexer": "ipython3",
   "version": "3.5.2"
  }
 },
 "nbformat": 4,
 "nbformat_minor": 1
}
